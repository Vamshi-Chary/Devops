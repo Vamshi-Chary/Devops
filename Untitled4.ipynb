{
 "cells": [
  {
   "cell_type": "code",
   "execution_count": 73,
   "id": "b9bc069f-096a-447a-80ba-38f8e13118e0",
   "metadata": {},
   "outputs": [
    {
     "name": "stdout",
     "output_type": "stream",
     "text": [
      "[[10 20 30]\n",
      " [40 50 60]\n",
      " [70 80 90]]\n"
     ]
    },
    {
     "data": {
      "text/plain": [
       "60"
      ]
     },
     "execution_count": 73,
     "metadata": {},
     "output_type": "execute_result"
    }
   ],
   "source": [
    "import numpy as np\n",
    "a = np.array([[10,20,30],[40,50,60],[70,80,90]])\n",
    "print(a)\n",
    "np.size(a)\n",
    "np.shape(a)\n",
    "a[1][2]"
   ]
  },
  {
   "cell_type": "code",
   "execution_count": 24,
   "id": "1e320239-08c6-4c24-9e13-9ecd5011af75",
   "metadata": {},
   "outputs": [],
   "source": [
    "b = np.asarray(a,dtype=int,order='f')"
   ]
  },
  {
   "cell_type": "code",
   "execution_count": 97,
   "id": "7fc394ca-2a92-4e04-91c9-3608a4ba65f6",
   "metadata": {},
   "outputs": [
    {
     "name": "stdout",
     "output_type": "stream",
     "text": [
      "10\n",
      "40\n",
      "70\n",
      "20\n",
      "50\n",
      "80\n",
      "30\n",
      "60\n",
      "90\n"
     ]
    }
   ],
   "source": [
    "for i in np.nditer(b):\n",
    "    print(i)"
   ]
  },
  {
   "cell_type": "code",
   "execution_count": 51,
   "id": "5a95101c-4fe2-4c47-9100-d688b5eb91b5",
   "metadata": {},
   "outputs": [
    {
     "data": {
      "text/plain": [
       "array([b'w', b'e', b'l', b'c', b'o', b'm', b'e', b' ', b't', b'o', b' ',\n",
       "       b'N', b'u', b'm', b'p', b'y'], dtype='|S1')"
      ]
     },
     "execution_count": 51,
     "metadata": {},
     "output_type": "execute_result"
    }
   ],
   "source": [
    "d = b\"welcome to Numpy\"\n",
    "np.frombuffer(a)\n",
    "np.frombuffer(a,dtype=\"S1\")"
   ]
  },
  {
   "cell_type": "code",
   "execution_count": 33,
   "id": "d5ff4589-9a95-4dbe-9bd1-a7020a161dde",
   "metadata": {},
   "outputs": [
    {
     "data": {
      "text/plain": [
       "array([b'o', b' ', b'N', b'u', b'm', b'p', b'y'], dtype='|S1')"
      ]
     },
     "execution_count": 33,
     "metadata": {},
     "output_type": "execute_result"
    }
   ],
   "source": [
    "np.frombuffer(a,dtype=\"S1\",offset=9)"
   ]
  },
  {
   "cell_type": "code",
   "execution_count": 37,
   "id": "1e7a8483-12e0-4f8f-80a4-5b9b3827923d",
   "metadata": {},
   "outputs": [
    {
     "data": {
      "text/plain": [
       "array([b'm', b'e', b' '], dtype='|S1')"
      ]
     },
     "execution_count": 37,
     "metadata": {},
     "output_type": "execute_result"
    }
   ],
   "source": [
    "np.frombuffer(a,dtype=\"S1\",count=3,offset=5)"
   ]
  },
  {
   "cell_type": "code",
   "execution_count": 41,
   "id": "2c472dc1-c2a7-4bc9-ae92-de559f4136f0",
   "metadata": {},
   "outputs": [],
   "source": [
    "c=np.array([10,20,30,40,50])"
   ]
  },
  {
   "cell_type": "code",
   "execution_count": 43,
   "id": "a6f5b81e-712b-403f-8fa2-a2416e5859fd",
   "metadata": {},
   "outputs": [
    {
     "data": {
      "text/plain": [
       "array([10, 20, 30])"
      ]
     },
     "execution_count": 43,
     "metadata": {},
     "output_type": "execute_result"
    }
   ],
   "source": [
    "np.fromiter(c,dtype=int,count=3)"
   ]
  },
  {
   "cell_type": "code",
   "execution_count": 53,
   "id": "a17a3eda-ca7c-408c-a307-3b6475d27700",
   "metadata": {},
   "outputs": [
    {
     "data": {
      "text/plain": [
       "1"
      ]
     },
     "execution_count": 53,
     "metadata": {},
     "output_type": "execute_result"
    }
   ],
   "source": [
    "np.size(a)"
   ]
  },
  {
   "cell_type": "code",
   "execution_count": 65,
   "id": "e040fef3-0e9f-449e-be4d-2bb3fa59b9b2",
   "metadata": {},
   "outputs": [
    {
     "name": "stdout",
     "output_type": "stream",
     "text": [
      "[[0. 0. 0.]\n",
      " [0. 0. 0.]\n",
      " [0. 0. 0.]]\n"
     ]
    }
   ],
   "source": [
    "f=np.zeros([3,3])\n",
    "print(f)"
   ]
  },
  {
   "cell_type": "code",
   "execution_count": 69,
   "id": "758e7fea-cd89-4399-841c-80392bdcb441",
   "metadata": {},
   "outputs": [
    {
     "name": "stdout",
     "output_type": "stream",
     "text": [
      "[[1 1]\n",
      " [1 1]\n",
      " [1 1]]\n"
     ]
    }
   ],
   "source": [
    "g=np.full([3,2],1)\n",
    "print(g)"
   ]
  },
  {
   "cell_type": "code",
   "execution_count": 71,
   "id": "e9132db1-42dd-4d68-947c-2b3537de8acc",
   "metadata": {},
   "outputs": [
    {
     "name": "stdout",
     "output_type": "stream",
     "text": [
      "[[1. 0. 0.]\n",
      " [0. 1. 0.]\n",
      " [0. 0. 1.]]\n"
     ]
    }
   ],
   "source": [
    "h=np.eye(3)\n",
    "print(h)"
   ]
  },
  {
   "cell_type": "code",
   "execution_count": 75,
   "id": "f5d3c38d-29d3-4284-b7d3-13d3f04e39bf",
   "metadata": {},
   "outputs": [
    {
     "data": {
      "text/plain": [
       "array([10, 20, 30, 50, 60])"
      ]
     },
     "execution_count": 75,
     "metadata": {},
     "output_type": "execute_result"
    }
   ],
   "source": [
    "j=np.array([50,20,60,10,30])\n",
    "np.sort(j)"
   ]
  },
  {
   "cell_type": "code",
   "execution_count": 77,
   "id": "c6458a2c-0553-4bb0-a640-971ce5a026d7",
   "metadata": {},
   "outputs": [
    {
     "name": "stdout",
     "output_type": "stream",
     "text": [
      "[50 20 60 10 30]\n"
     ]
    }
   ],
   "source": [
    "k=np.copy(j)\n",
    "print(k)"
   ]
  },
  {
   "cell_type": "code",
   "execution_count": 83,
   "id": "dee724fd-a402-43b5-9cac-6b5685e13db3",
   "metadata": {},
   "outputs": [
    {
     "data": {
      "text/plain": [
       "array([50, 40, 20, 60, 10, 30])"
      ]
     },
     "execution_count": 83,
     "metadata": {},
     "output_type": "execute_result"
    }
   ],
   "source": [
    "np.insert(k,1,40)"
   ]
  },
  {
   "cell_type": "code",
   "execution_count": 89,
   "id": "ae23fa15-263d-4cf2-8477-d3c1604ae0fa",
   "metadata": {},
   "outputs": [
    {
     "name": "stdout",
     "output_type": "stream",
     "text": [
      "[50 20 60 10 30]\n"
     ]
    }
   ],
   "source": [
    "print(k)"
   ]
  },
  {
   "cell_type": "code",
   "execution_count": 91,
   "id": "64b0ac59-395b-4255-bde1-f46eb4ff69e4",
   "metadata": {},
   "outputs": [
    {
     "data": {
      "text/plain": [
       "array([50, 20, 60, 10])"
      ]
     },
     "execution_count": 91,
     "metadata": {},
     "output_type": "execute_result"
    }
   ],
   "source": [
    "np.delete(k,4)"
   ]
  },
  {
   "cell_type": "code",
   "execution_count": null,
   "id": "9138947a-414a-4b54-8171-770e4ec2ba53",
   "metadata": {},
   "outputs": [],
   "source": []
  }
 ],
 "metadata": {
  "kernelspec": {
   "display_name": "Python 3 (ipykernel)",
   "language": "python",
   "name": "python3"
  },
  "language_info": {
   "codemirror_mode": {
    "name": "ipython",
    "version": 3
   },
   "file_extension": ".py",
   "mimetype": "text/x-python",
   "name": "python",
   "nbconvert_exporter": "python",
   "pygments_lexer": "ipython3",
   "version": "3.12.4"
  }
 },
 "nbformat": 4,
 "nbformat_minor": 5
}
